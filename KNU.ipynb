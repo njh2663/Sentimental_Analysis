{
 "cells": [
  {
   "cell_type": "code",
   "execution_count": 1,
   "metadata": {},
   "outputs": [],
   "source": [
    "import pandas as pd\n",
    "from konlpy.tag import Okt\n",
    "import json"
   ]
  },
  {
   "cell_type": "code",
   "execution_count": 2,
   "metadata": {},
   "outputs": [
    {
     "name": "stdout",
     "output_type": "stream",
     "text": [
      "                                             reviews  \\\n",
      "0                                    항상 맛있게 먹고 있습니다.   \n",
      "1                너무 맛나요 ~ 짜지도 않고 적당해요~~ 다음에 또 구매할게용~   \n",
      "2  지인추천으로 사먹고 맛있어서 두통재주문했어요. 집에서 고기먹을때 없으면 서운한 반찬...   \n",
      "3  흠..저희 장아찌 좋아해요..근데 궁채에 고구마에서 나오는 길다린 씽?이라고해야하나...   \n",
      "\n",
      "                                          Okt_tokens  \n",
      "0                             [항상, 맛있게, 먹고, 있습니다, .]  \n",
      "1  [너무, 맛, 나, 요, ~, 짜지도, 않고, 적당해요, ~~, 다음, 에, 또, ...  \n",
      "2  [지인, 추천, 으로, 사먹고, 맛있어서, 두통, 재, 주문, 했어요, ., 집, ...  \n",
      "3  [흠, .., 저희, 장아찌, 좋아해요, .., 근데, 궁채, 에, 고구마, 에서,...  \n"
     ]
    }
   ],
   "source": [
    "# Import Dataset\n",
    "df = pd.read_csv('data/단양구경시장 유리네 수제 궁채장아찌 절임 1KG [원산지상세설명에 표시]_500.csv', encoding='utf-8-sig')\n",
    "\n",
    "# 토큰화\n",
    "okt = Okt()\n",
    "words = []\n",
    "for review in df['reviews']:\n",
    "    word = okt.morphs(str(review))\n",
    "    words.append(word)\n",
    "\n",
    "# 토큰화 결과 저장\n",
    "df['Okt_tokens'] = words\n",
    "print(df[['reviews', 'Okt_tokens']][:4])"
   ]
  },
  {
   "cell_type": "code",
   "execution_count": 3,
   "metadata": {},
   "outputs": [
    {
     "name": "stdout",
     "output_type": "stream",
     "text": [
      "    word word_root polarity\n",
      "0    (-;         (        1\n",
      "1  (;_;)     (;_;)       -1\n",
      "2   (^^)      (^^)        1\n",
      "3  (^-^)     (^-^)        1\n"
     ]
    }
   ],
   "source": [
    "# Import Dictionary\n",
    "with open('data/SentiWord_info.json', encoding = 'utf-8-sig', mode = 'r') as f: \n",
    "  json_data = json.load(f)\n",
    "\n",
    "Dict = pd.DataFrame(json_data)\n",
    "print(Dict.head(4))"
   ]
  },
  {
   "cell_type": "code",
   "execution_count": 12,
   "metadata": {},
   "outputs": [
    {
     "name": "stdout",
     "output_type": "stream",
     "text": [
      "polarity\n",
      "-1    5030\n",
      "-2    4799\n",
      "2     2602\n",
      "1     2269\n",
      "0      154\n",
      "Name: count, dtype: int64\n"
     ]
    }
   ],
   "source": [
    "print(Dict['polarity'].value_counts())\n",
    "# -2 매우 부정, -1 부정, 0 중립, 1 긍정, 2 매우 긍정"
   ]
  },
  {
   "cell_type": "code",
   "execution_count": 5,
   "metadata": {},
   "outputs": [],
   "source": [
    "# 감성점수 매기기\n",
    "def scoring(tokens):\n",
    "    total_score = 0\n",
    "\n",
    "    for token in tokens:\n",
    "        if Dict['word'].isin([token]).any():   # 단어 탐색\n",
    "            score = Dict.loc[Dict['word'] == token, 'polarity']   # 각 단어의 극성 점수\n",
    "            score = int(score)\n",
    "            total_score += score\n",
    "\n",
    "    return total_score"
   ]
  },
  {
   "cell_type": "code",
   "execution_count": null,
   "metadata": {},
   "outputs": [],
   "source": [
    "result = []\n",
    "for review_tokens in df['Okt_tokens']:\n",
    "    score = scoring(review_tokens)\n",
    "    result.append(score)\n",
    "\n",
    "df['KNU_Score'] = result"
   ]
  },
  {
   "cell_type": "code",
   "execution_count": 14,
   "metadata": {},
   "outputs": [
    {
     "name": "stderr",
     "output_type": "stream",
     "text": [
      "C:\\Users\\njh26\\AppData\\Local\\Temp\\ipykernel_1900\\3634431190.py:7: FutureWarning: Calling int on a single element Series is deprecated and will raise a TypeError in the future. Use int(ser.iloc[0]) instead\n",
      "  score = int(score)\n"
     ]
    },
    {
     "data": {
      "text/html": [
       "<div>\n",
       "<style scoped>\n",
       "    .dataframe tbody tr th:only-of-type {\n",
       "        vertical-align: middle;\n",
       "    }\n",
       "\n",
       "    .dataframe tbody tr th {\n",
       "        vertical-align: top;\n",
       "    }\n",
       "\n",
       "    .dataframe thead th {\n",
       "        text-align: right;\n",
       "    }\n",
       "</style>\n",
       "<table border=\"1\" class=\"dataframe\">\n",
       "  <thead>\n",
       "    <tr style=\"text-align: right;\">\n",
       "      <th></th>\n",
       "      <th>reviews</th>\n",
       "      <th>KNU_Score</th>\n",
       "    </tr>\n",
       "  </thead>\n",
       "  <tbody>\n",
       "    <tr>\n",
       "      <th>0</th>\n",
       "      <td>항상 맛있게 먹고 있습니다.</td>\n",
       "      <td>2</td>\n",
       "    </tr>\n",
       "    <tr>\n",
       "      <th>1</th>\n",
       "      <td>너무 맛나요 ~ 짜지도 않고 적당해요~~ 다음에 또 구매할게용~</td>\n",
       "      <td>0</td>\n",
       "    </tr>\n",
       "    <tr>\n",
       "      <th>2</th>\n",
       "      <td>지인추천으로 사먹고 맛있어서 두통재주문했어요. 집에서 고기먹을때 없으면 서운한 반찬...</td>\n",
       "      <td>-4</td>\n",
       "    </tr>\n",
       "    <tr>\n",
       "      <th>3</th>\n",
       "      <td>흠..저희 장아찌 좋아해요..근데 궁채에 고구마에서 나오는 길다린 씽?이라고해야하나...</td>\n",
       "      <td>-2</td>\n",
       "    </tr>\n",
       "    <tr>\n",
       "      <th>4</th>\n",
       "      <td>아삭아삭 너무 짜지도 달지도 않고 맛있네요</td>\n",
       "      <td>0</td>\n",
       "    </tr>\n",
       "    <tr>\n",
       "      <th>...</th>\n",
       "      <td>...</td>\n",
       "      <td>...</td>\n",
       "    </tr>\n",
       "    <tr>\n",
       "      <th>495</th>\n",
       "      <td>믿고 먹는 장아찌~~  짜지 않고 아삭아삭 너무 맛나요^^</td>\n",
       "      <td>2</td>\n",
       "    </tr>\n",
       "    <tr>\n",
       "      <th>496</th>\n",
       "      <td>잘받았습니다 맛있어보여요</td>\n",
       "      <td>1</td>\n",
       "    </tr>\n",
       "    <tr>\n",
       "      <th>497</th>\n",
       "      <td>당일에 만들어서 보내주신 것 같아요.\\n주문 일주일만에 반 먹었어요!</td>\n",
       "      <td>0</td>\n",
       "    </tr>\n",
       "    <tr>\n",
       "      <th>498</th>\n",
       "      <td>두번째 주문하고\\n아버지께서 좋아히십니다</td>\n",
       "      <td>0</td>\n",
       "    </tr>\n",
       "    <tr>\n",
       "      <th>499</th>\n",
       "      <td>아삭하고 맛있네요~</td>\n",
       "      <td>0</td>\n",
       "    </tr>\n",
       "  </tbody>\n",
       "</table>\n",
       "<p>500 rows × 2 columns</p>\n",
       "</div>"
      ],
      "text/plain": [
       "                                               reviews  KNU_Score\n",
       "0                                      항상 맛있게 먹고 있습니다.          2\n",
       "1                  너무 맛나요 ~ 짜지도 않고 적당해요~~ 다음에 또 구매할게용~          0\n",
       "2    지인추천으로 사먹고 맛있어서 두통재주문했어요. 집에서 고기먹을때 없으면 서운한 반찬...         -4\n",
       "3    흠..저희 장아찌 좋아해요..근데 궁채에 고구마에서 나오는 길다린 씽?이라고해야하나...         -2\n",
       "4                              아삭아삭 너무 짜지도 달지도 않고 맛있네요          0\n",
       "..                                                 ...        ...\n",
       "495                   믿고 먹는 장아찌~~  짜지 않고 아삭아삭 너무 맛나요^^          2\n",
       "496                                      잘받았습니다 맛있어보여요          1\n",
       "497             당일에 만들어서 보내주신 것 같아요.\\n주문 일주일만에 반 먹었어요!          0\n",
       "498                             두번째 주문하고\\n아버지께서 좋아히십니다          0\n",
       "499                                         아삭하고 맛있네요~          0\n",
       "\n",
       "[500 rows x 2 columns]"
      ]
     },
     "execution_count": 14,
     "metadata": {},
     "output_type": "execute_result"
    }
   ],
   "source": [
    "df[['reviews','KNU_Score']]\n",
    "# print(df[['reviews','KNU_Score']])"
   ]
  },
  {
   "cell_type": "code",
   "execution_count": null,
   "metadata": {},
   "outputs": [],
   "source": [
    "# 점수 -> 긍/부정 판단으로 변환\n",
    "def pos_neg(num):\n",
    "    if num > 0:\n",
    "        return '긍정'\n",
    "    elif num < 0:\n",
    "        return '부정'\n",
    "    else:\n",
    "        return '중립'"
   ]
  },
  {
   "cell_type": "code",
   "execution_count": 9,
   "metadata": {},
   "outputs": [
    {
     "name": "stdout",
     "output_type": "stream",
     "text": [
      "KNU_label\n",
      "중립    263\n",
      "긍정    202\n",
      "부정     35\n",
      "Name: count, dtype: int64\n"
     ]
    }
   ],
   "source": [
    "df['KNU_label'] = df['KNU_Score'].apply(pos_neg)\n",
    "print(df['KNU_label'].value_counts())"
   ]
  },
  {
   "cell_type": "code",
   "execution_count": 13,
   "metadata": {},
   "outputs": [
    {
     "data": {
      "text/html": [
       "<div>\n",
       "<style scoped>\n",
       "    .dataframe tbody tr th:only-of-type {\n",
       "        vertical-align: middle;\n",
       "    }\n",
       "\n",
       "    .dataframe tbody tr th {\n",
       "        vertical-align: top;\n",
       "    }\n",
       "\n",
       "    .dataframe thead th {\n",
       "        text-align: right;\n",
       "    }\n",
       "</style>\n",
       "<table border=\"1\" class=\"dataframe\">\n",
       "  <thead>\n",
       "    <tr style=\"text-align: right;\">\n",
       "      <th></th>\n",
       "      <th>reviews</th>\n",
       "      <th>KNU_label</th>\n",
       "    </tr>\n",
       "  </thead>\n",
       "  <tbody>\n",
       "    <tr>\n",
       "      <th>0</th>\n",
       "      <td>항상 맛있게 먹고 있습니다.</td>\n",
       "      <td>긍정</td>\n",
       "    </tr>\n",
       "    <tr>\n",
       "      <th>1</th>\n",
       "      <td>너무 맛나요 ~ 짜지도 않고 적당해요~~ 다음에 또 구매할게용~</td>\n",
       "      <td>중립</td>\n",
       "    </tr>\n",
       "    <tr>\n",
       "      <th>2</th>\n",
       "      <td>지인추천으로 사먹고 맛있어서 두통재주문했어요. 집에서 고기먹을때 없으면 서운한 반찬...</td>\n",
       "      <td>부정</td>\n",
       "    </tr>\n",
       "    <tr>\n",
       "      <th>3</th>\n",
       "      <td>흠..저희 장아찌 좋아해요..근데 궁채에 고구마에서 나오는 길다린 씽?이라고해야하나...</td>\n",
       "      <td>부정</td>\n",
       "    </tr>\n",
       "    <tr>\n",
       "      <th>4</th>\n",
       "      <td>아삭아삭 너무 짜지도 달지도 않고 맛있네요</td>\n",
       "      <td>중립</td>\n",
       "    </tr>\n",
       "    <tr>\n",
       "      <th>...</th>\n",
       "      <td>...</td>\n",
       "      <td>...</td>\n",
       "    </tr>\n",
       "    <tr>\n",
       "      <th>495</th>\n",
       "      <td>믿고 먹는 장아찌~~  짜지 않고 아삭아삭 너무 맛나요^^</td>\n",
       "      <td>긍정</td>\n",
       "    </tr>\n",
       "    <tr>\n",
       "      <th>496</th>\n",
       "      <td>잘받았습니다 맛있어보여요</td>\n",
       "      <td>긍정</td>\n",
       "    </tr>\n",
       "    <tr>\n",
       "      <th>497</th>\n",
       "      <td>당일에 만들어서 보내주신 것 같아요.\\n주문 일주일만에 반 먹었어요!</td>\n",
       "      <td>중립</td>\n",
       "    </tr>\n",
       "    <tr>\n",
       "      <th>498</th>\n",
       "      <td>두번째 주문하고\\n아버지께서 좋아히십니다</td>\n",
       "      <td>중립</td>\n",
       "    </tr>\n",
       "    <tr>\n",
       "      <th>499</th>\n",
       "      <td>아삭하고 맛있네요~</td>\n",
       "      <td>중립</td>\n",
       "    </tr>\n",
       "  </tbody>\n",
       "</table>\n",
       "<p>500 rows × 2 columns</p>\n",
       "</div>"
      ],
      "text/plain": [
       "                                               reviews KNU_label\n",
       "0                                      항상 맛있게 먹고 있습니다.        긍정\n",
       "1                  너무 맛나요 ~ 짜지도 않고 적당해요~~ 다음에 또 구매할게용~        중립\n",
       "2    지인추천으로 사먹고 맛있어서 두통재주문했어요. 집에서 고기먹을때 없으면 서운한 반찬...        부정\n",
       "3    흠..저희 장아찌 좋아해요..근데 궁채에 고구마에서 나오는 길다린 씽?이라고해야하나...        부정\n",
       "4                              아삭아삭 너무 짜지도 달지도 않고 맛있네요        중립\n",
       "..                                                 ...       ...\n",
       "495                   믿고 먹는 장아찌~~  짜지 않고 아삭아삭 너무 맛나요^^        긍정\n",
       "496                                      잘받았습니다 맛있어보여요        긍정\n",
       "497             당일에 만들어서 보내주신 것 같아요.\\n주문 일주일만에 반 먹었어요!        중립\n",
       "498                             두번째 주문하고\\n아버지께서 좋아히십니다        중립\n",
       "499                                         아삭하고 맛있네요~        중립\n",
       "\n",
       "[500 rows x 2 columns]"
      ]
     },
     "execution_count": 13,
     "metadata": {},
     "output_type": "execute_result"
    }
   ],
   "source": [
    "df[['reviews','KNU_label']]\n",
    "# print(df[['reviews','KNU_label']])"
   ]
  },
  {
   "cell_type": "code",
   "execution_count": null,
   "metadata": {},
   "outputs": [],
   "source": [
    "# 결과 저장\n",
    "df.to_csv('KNU_Sentimental.csv', encoding = 'utf-8-sig', index = False)"
   ]
  }
 ],
 "metadata": {
  "kernelspec": {
   "display_name": "venv_sentimental",
   "language": "python",
   "name": "python3"
  },
  "language_info": {
   "codemirror_mode": {
    "name": "ipython",
    "version": 3
   },
   "file_extension": ".py",
   "mimetype": "text/x-python",
   "name": "python",
   "nbconvert_exporter": "python",
   "pygments_lexer": "ipython3",
   "version": "3.9.13"
  }
 },
 "nbformat": 4,
 "nbformat_minor": 2
}
